{
  "nbformat": 4,
  "nbformat_minor": 0,
  "metadata": {
    "colab": {
      "provenance": [],
      "authorship_tag": "ABX9TyPSl46NBHv13XDupOokhy9e",
      "include_colab_link": true
    },
    "kernelspec": {
      "name": "python3",
      "display_name": "Python 3"
    },
    "language_info": {
      "name": "python"
    }
  },
  "cells": [
    {
      "cell_type": "markdown",
      "metadata": {
        "id": "view-in-github",
        "colab_type": "text"
      },
      "source": [
        "<a href=\"https://colab.research.google.com/github/kulsoom15/growthmindset.ks/blob/main/countdown_timer_game.ipynb\" target=\"_parent\"><img src=\"https://colab.research.google.com/assets/colab-badge.svg\" alt=\"Open In Colab\"/></a>"
      ]
    },
    {
      "cell_type": "code",
      "execution_count": 1,
      "metadata": {
        "colab": {
          "base_uri": "https://localhost:8080/"
        },
        "id": "K9FjfXO-sDDR",
        "outputId": "bb046211-62fb-4075-8491-c35e0f5b5a6d"
      },
      "outputs": [
        {
          "output_type": "stream",
          "name": "stdout",
          "text": [
            "Enter countdown time in seconds: 45\n",
            "Time left: 45 seconds\n",
            "Time left: 44 seconds\n",
            "Time left: 43 seconds\n",
            "Time left: 42 seconds\n",
            "Time left: 41 seconds\n",
            "Time left: 40 seconds\n",
            "Time left: 39 seconds\n",
            "Time left: 38 seconds\n",
            "Time left: 37 seconds\n",
            "Time left: 36 seconds\n",
            "Time left: 35 seconds\n",
            "Time left: 34 seconds\n",
            "Time left: 33 seconds\n",
            "Time left: 32 seconds\n",
            "Time left: 31 seconds\n",
            "Time left: 30 seconds\n",
            "Time left: 29 seconds\n",
            "Time left: 28 seconds\n",
            "Time left: 27 seconds\n",
            "Time left: 26 seconds\n",
            "Time left: 25 seconds\n",
            "Time left: 24 seconds\n",
            "Time left: 23 seconds\n",
            "Time left: 22 seconds\n",
            "Time left: 21 seconds\n",
            "Time left: 20 seconds\n",
            "Time left: 19 seconds\n",
            "Time left: 18 seconds\n",
            "Time left: 17 seconds\n",
            "Time left: 16 seconds\n",
            "Time left: 15 seconds\n",
            "Time left: 14 seconds\n",
            "Time left: 13 seconds\n",
            "Time left: 12 seconds\n",
            "Time left: 11 seconds\n",
            "Time left: 10 seconds\n",
            "Time left: 9 seconds\n",
            "Time left: 8 seconds\n",
            "Time left: 7 seconds\n",
            "Time left: 6 seconds\n",
            "Time left: 5 seconds\n",
            "Time left: 4 seconds\n",
            "Time left: 3 seconds\n",
            "Time left: 2 seconds\n",
            "Time left: 1 seconds\n",
            "Time's up! Game over!\n"
          ]
        }
      ],
      "source": [
        "import time\n",
        "\n",
        "def countdown_timer():\n",
        "    try:\n",
        "        seconds = int(input(\"Enter countdown time in seconds: \"))\n",
        "\n",
        "        while seconds > 0:\n",
        "            print(f\"Time left: {seconds} seconds\")\n",
        "            time.sleep(1)\n",
        "            seconds -= 1\n",
        "\n",
        "        print(\"Time's up! Game over!\")\n",
        "    except ValueError:\n",
        "        print(\"Please enter a valid number.\")\n",
        "\n",
        "countdown_timer()"
      ]
    }
  ]
}