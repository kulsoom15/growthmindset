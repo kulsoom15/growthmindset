{
  "nbformat": 4,
  "nbformat_minor": 0,
  "metadata": {
    "colab": {
      "provenance": [],
      "authorship_tag": "ABX9TyODRhGZr+tF1ZEltuDCvx4O",
      "include_colab_link": true
    },
    "kernelspec": {
      "name": "python3",
      "display_name": "Python 3"
    },
    "language_info": {
      "name": "python"
    }
  },
  "cells": [
    {
      "cell_type": "markdown",
      "metadata": {
        "id": "view-in-github",
        "colab_type": "text"
      },
      "source": [
        "<a href=\"https://colab.research.google.com/github/kulsoom15/growthmindset.ks/blob/main/Number_Guessing_Game_(User).ipynb\" target=\"_parent\"><img src=\"https://colab.research.google.com/assets/colab-badge.svg\" alt=\"Open In Colab\"/></a>"
      ]
    },
    {
      "cell_type": "code",
      "execution_count": 1,
      "metadata": {
        "colab": {
          "base_uri": "https://localhost:8080/"
        },
        "id": "DCN2ugXkkwvZ",
        "outputId": "38c27f13-bd8a-49ca-99e4-4312d089bdab"
      },
      "outputs": [
        {
          "output_type": "stream",
          "name": "stdout",
          "text": [
            "Welcome to the Number Guessing Game!\n",
            "Enter a secret number for the computer to guess (between 1 and 100): 45\n",
            "Computer guesses: 19\n",
            "Too low!\n",
            "Computer guesses: 22\n",
            "Too low!\n",
            "Computer guesses: 99\n",
            "Too high!\n",
            "Computer guesses: 40\n",
            "Too low!\n",
            "Computer guesses: 71\n",
            "Too high!\n",
            "Computer guesses: 58\n",
            "Too high!\n",
            "Computer guesses: 49\n",
            "Too high!\n",
            "Computer guesses: 41\n",
            "Too low!\n",
            "Computer guesses: 44\n",
            "Too low!\n",
            "Computer guesses: 46\n",
            "Too high!\n",
            "Computer guesses: 45\n",
            "The computer guessed your number 45 in 11 attempts!\n"
          ]
        }
      ],
      "source": [
        "import random\n",
        "\n",
        "def number_guessing_game():\n",
        "    print(\"Welcome to the Number Guessing Game!\")\n",
        "\n",
        "    while True:\n",
        "        try:\n",
        "            secret_number = int(input(\"Enter a secret number for the computer to guess (between 1 and 100): \"))\n",
        "            if secret_number < 1 or secret_number > 100:\n",
        "                print(\"Please enter a number between 1 and 100.\")\n",
        "                continue\n",
        "            break\n",
        "        except ValueError:\n",
        "            print(\"Invalid input! Please enter a number.\")\n",
        "\n",
        "    low, high = 1, 100\n",
        "    attempts = 0\n",
        "\n",
        "    while True:\n",
        "        guess = random.randint(low, high)\n",
        "        attempts += 1\n",
        "        print(f\"Computer guesses: {guess}\")\n",
        "\n",
        "        if guess == secret_number:\n",
        "            print(f\"The computer guessed your number {secret_number} in {attempts} attempts!\")\n",
        "            break\n",
        "        elif guess < secret_number:\n",
        "            print(\"Too low!\")\n",
        "            low = guess + 1\n",
        "        else:\n",
        "            print(\"Too high!\")\n",
        "            high = guess - 1\n",
        "\n",
        "number_guessing_game()\n"
      ]
    }
  ]
}