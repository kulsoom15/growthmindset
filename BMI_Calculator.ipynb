{
  "nbformat": 4,
  "nbformat_minor": 0,
  "metadata": {
    "colab": {
      "provenance": [],
      "authorship_tag": "ABX9TyO3hXr4JHrEEnHca9MNPJbu",
      "include_colab_link": true
    },
    "kernelspec": {
      "name": "python3",
      "display_name": "Python 3"
    },
    "language_info": {
      "name": "python"
    }
  },
  "cells": [
    {
      "cell_type": "markdown",
      "metadata": {
        "id": "view-in-github",
        "colab_type": "text"
      },
      "source": [
        "<a href=\"https://colab.research.google.com/github/kulsoom15/growthmindset.ks/blob/main/BMI_Calculator.ipynb\" target=\"_parent\"><img src=\"https://colab.research.google.com/assets/colab-badge.svg\" alt=\"Open In Colab\"/></a>"
      ]
    },
    {
      "cell_type": "code",
      "execution_count": 2,
      "metadata": {
        "colab": {
          "base_uri": "https://localhost:8080/"
        },
        "id": "F1EvTkMywY6s",
        "outputId": "24bdab23-5322-47e6-e8db-2c6bdc08e916"
      },
      "outputs": [
        {
          "output_type": "stream",
          "name": "stdout",
          "text": [
            "Enter your weight in kg: 55\n",
            "Enter your height in meters: 1.6\n",
            "Your BMI is: 21.48\n",
            "You have a normal weight.\n"
          ]
        }
      ],
      "source": [
        "def calculate_bmi():\n",
        "    try:\n",
        "        weight = float(input(\"Enter your weight in kg: \"))\n",
        "        height = float(input(\"Enter your height in meters: \"))\n",
        "\n",
        "        if weight <= 0 or height <= 0:\n",
        "            print(\"Weight and height must be positive values.\")\n",
        "            return\n",
        "\n",
        "        bmi = weight / (height ** 2)\n",
        "        print(f\"Your BMI is: {bmi:.2f}\")\n",
        "\n",
        "        if bmi < 18.5:\n",
        "            print(\"You are underweight.\")\n",
        "        elif 18.5 <= bmi < 24.9:\n",
        "            print(\"You have a normal weight.\")\n",
        "        elif 25 <= bmi < 29.9:\n",
        "            print(\"You are overweight.\")\n",
        "        else:\n",
        "            print(\"You are obese.\")\n",
        "    except ValueError:\n",
        "        print(\"Please enter valid numbers for weight and height.\")\n",
        "\n",
        "calculate_bmi()"
      ]
    }
  ]
}