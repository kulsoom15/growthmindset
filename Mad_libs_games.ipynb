{
  "nbformat": 4,
  "nbformat_minor": 0,
  "metadata": {
    "colab": {
      "provenance": [],
      "authorship_tag": "ABX9TyNfgJh5NcfRMqD8Sd4NiTiO",
      "include_colab_link": true
    },
    "kernelspec": {
      "name": "python3",
      "display_name": "Python 3"
    },
    "language_info": {
      "name": "python"
    }
  },
  "cells": [
    {
      "cell_type": "markdown",
      "metadata": {
        "id": "view-in-github",
        "colab_type": "text"
      },
      "source": [
        "<a href=\"https://colab.research.google.com/github/kulsoom15/growthmindset.ks/blob/main/Mad_libs_games.ipynb\" target=\"_parent\"><img src=\"https://colab.research.google.com/assets/colab-badge.svg\" alt=\"Open In Colab\"/></a>"
      ]
    },
    {
      "cell_type": "code",
      "execution_count": 5,
      "metadata": {
        "colab": {
          "base_uri": "https://localhost:8080/"
        },
        "id": "tNbWg7q9nies",
        "outputId": "b1ec50b6-6645-487a-a4f5-77d79bb65bab"
      },
      "outputs": [
        {
          "output_type": "stream",
          "name": "stdout",
          "text": [
            "\n",
            "✨ Welcome to the Ultimate Adventure Mad Libs Game! ✨\n",
            "\n",
            "Your name:Kulsoom Shahid\n",
            "A magical place:Istanbul\n",
            "Your favorite novel: Yakeen ka Safar\n",
            "Your favorite character from that novel: Josh\n",
            "Your favorite food:  pizza\n",
            "A treasure you want to find (e.g., Golden Crown, Magic Sword): Diamonds\n",
            "A superpower you wish to have: Imperceptible\n",
            "Your favorite animal: Cat\n",
            "Your favorite color: Blue\n",
            "Your favorite hobby: Cooking\n",
            "\n",
            "🌟 Once upon a time, Kulsoom Shahid went on an adventure to Istanbul.\n",
            "With a Blue sky above and excitement in the air, Kulsoom Shshid carried a copy of \"Yakeen ka Safar\",\n",
            "dreaming of meeting Josh in real life.\n",
            "\n",
            "Suddenly, a Cat appeared, holding a mysterious map leading to the legendary Gold Coins.\n",
            "But there was a twist! To unlock the path, Kulsoom Shahid had to show the power of Imperceptible\n",
            "and master the art of Cooking while solving magical riddles.\n",
            "\n",
            "After an epic journey filled with laughter, challenges, and surprises,\n",
            "Kulsoom Shahid finally reached the hidden chamber where the Gold Coins sparkled under the glowing stars.\n",
            "The day ended with a grand feast of Pizza, as Josh shared legendary stories of Istanbul.\n",
            "It was truly a day to remember—full of magic, dreams, and friendship. 🌈✨\n",
            "\n"
          ]
        }
      ],
      "source": [
        "print(\"\\n✨ Welcome to the Ultimate Adventure Mad Libs Game! ✨\\n\")\n",
        "\n",
        "name = input(\"Your name:\")\n",
        "place = input(\"A magical place:\")\n",
        "fav_novel = input(\"Your favorite novel: \")\n",
        "fav_character = input(\"Your favorite character from that novel: \")\n",
        "food = input(\"Your favorite food:  \")\n",
        "treasure = input(\"A treasure you want to find (e.g., Golden Crown, Magic Sword): \")\n",
        "superpower = input(\"A superpower you wish to have: \")\n",
        "animal = input(\"Your favorite animal: \")\n",
        "color = input(\"Your favorite color: \")\n",
        "hobby = input(\"Your favorite hobby: \")\n",
        "\n",
        "story = f\"\"\"\n",
        "🌟 Once upon a time, {\"Kulsoom Shahid\"} went on an adventure to {\"Istanbul\"}.\n",
        "With a {\"Blue\"} sky above and excitement in the air, {\"Kulsoom Shshid\"} carried a copy of \"{\"Yakeen ka Safar\"}\",\n",
        "dreaming of meeting {fav_character} in real life.\n",
        "\n",
        "Suddenly, a {\"Cat\"} appeared, holding a mysterious map leading to the legendary {\"Gold Coins\"}.\n",
        "But there was a twist! To unlock the path, {\"Kulsoom Shahid\"} had to show the power of {\"Imperceptible\"}\n",
        "and master the art of {\"Cooking\"} while solving magical riddles.\n",
        "\n",
        "After an epic journey filled with laughter, challenges, and surprises,\n",
        "{\"Kulsoom Shahid\"} finally reached the hidden chamber where the {\"Gold Coins\"} sparkled under the glowing stars.\n",
        "The day ended with a grand feast of {\"Pizza\"}, as {\"Josh\"} shared legendary stories of {\"Istanbul\"}.\n",
        "It was truly a day to remember—full of magic, dreams, and friendship. 🌈✨\n",
        "\"\"\"\n",
        "\n",
        "print(story)\n"
      ]
    }
  ]
}