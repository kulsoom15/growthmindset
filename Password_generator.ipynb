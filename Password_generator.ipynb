{
  "nbformat": 4,
  "nbformat_minor": 0,
  "metadata": {
    "colab": {
      "provenance": [],
      "authorship_tag": "ABX9TyN9yQVXfnMbTj1D0/W01la/",
      "include_colab_link": true
    },
    "kernelspec": {
      "name": "python3",
      "display_name": "Python 3"
    },
    "language_info": {
      "name": "python"
    }
  },
  "cells": [
    {
      "cell_type": "markdown",
      "metadata": {
        "id": "view-in-github",
        "colab_type": "text"
      },
      "source": [
        "<a href=\"https://colab.research.google.com/github/kulsoom15/growthmindset.ks/blob/main/Password_generator.ipynb\" target=\"_parent\"><img src=\"https://colab.research.google.com/assets/colab-badge.svg\" alt=\"Open In Colab\"/></a>"
      ]
    },
    {
      "cell_type": "code",
      "execution_count": 12,
      "metadata": {
        "colab": {
          "base_uri": "https://localhost:8080/"
        },
        "id": "H0sw7Xottb_L",
        "outputId": "0f828360-2dca-4b23-ec77-1ede085827b1"
      },
      "outputs": [
        {
          "output_type": "stream",
          "name": "stdout",
          "text": [
            "Enter the desired password length: 8\n",
            "Generated Password: RE:7F]w8\n"
          ]
        }
      ],
      "source": [
        "import random\n",
        "import string\n",
        "\n",
        "def generate_password():\n",
        "    try:\n",
        "        length = int(input(\"Enter the desired password length: \"))\n",
        "        if length < 3:\n",
        "            print(\"Password length must be at least 3.\")\n",
        "            return\n",
        "\n",
        "        characters = string.ascii_letters + string.digits + string.punctuation\n",
        "        password = \"\".join(random.choice(characters) for _ in range(length))\n",
        "\n",
        "        print(f\"Generated Password: {password}\")\n",
        "    except ValueError:\n",
        "        print(\"⛔ Please enter a valid number.\")\n",
        "\n",
        "generate_password()\n",
        "\n"
      ]
    }
  ]
}