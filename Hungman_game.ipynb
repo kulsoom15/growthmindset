{
  "nbformat": 4,
  "nbformat_minor": 0,
  "metadata": {
    "colab": {
      "provenance": [],
      "authorship_tag": "ABX9TyPzLCs4DzwdekhopHXMctI3",
      "include_colab_link": true
    },
    "kernelspec": {
      "name": "python3",
      "display_name": "Python 3"
    },
    "language_info": {
      "name": "python"
    }
  },
  "cells": [
    {
      "cell_type": "markdown",
      "metadata": {
        "id": "view-in-github",
        "colab_type": "text"
      },
      "source": [
        "<a href=\"https://colab.research.google.com/github/kulsoom15/growthmindset.ks/blob/main/Hungman_game.ipynb\" target=\"_parent\"><img src=\"https://colab.research.google.com/assets/colab-badge.svg\" alt=\"Open In Colab\"/></a>"
      ]
    },
    {
      "cell_type": "code",
      "execution_count": 1,
      "metadata": {
        "colab": {
          "base_uri": "https://localhost:8080/"
        },
        "id": "VPjn_NlLp_oe",
        "outputId": "ac94b6eb-ba59-472b-9eb2-e0f4d7a85778"
      },
      "outputs": [
        {
          "output_type": "stream",
          "name": "stdout",
          "text": [
            "Welcome to Hangman!\n",
            "\n",
            "Word: _ _ _ _ _\n",
            "Guess a letter: b\n",
            "Wrong guess!\n",
            "\n",
            "Word: _ _ _ _ _\n",
            "Guess a letter: a\n",
            "Good guess!\n",
            "\n",
            "Word: a _ _ _ _\n",
            "Guess a letter: e\n",
            "Good guess!\n",
            "\n",
            "Word: a _ _ _ e\n",
            "Guess a letter: p\n",
            "Good guess!\n",
            "\n",
            "Word: a p p _ e\n",
            "Guess a letter: l\n",
            "Good guess!\n",
            "You win! The word was: apple\n"
          ]
        }
      ],
      "source": [
        "import random\n",
        "\n",
        "def hangman():\n",
        "    words = [\"apple\", \"banana\", \"cherry\"]\n",
        "    word = random.choice(words)\n",
        "    guessed_letters = []\n",
        "    attempts = 5\n",
        "\n",
        "    print(\"Welcome to Hangman!\")\n",
        "\n",
        "    while attempts > 0:\n",
        "        display_word = \" \".join([letter if letter in guessed_letters else \"_\" for letter in word])\n",
        "        print(f\"\\nWord: {display_word}\")\n",
        "\n",
        "        guess = input(\"Guess a letter: \").lower()\n",
        "\n",
        "        if guess in guessed_letters:\n",
        "            print(\"You already guessed that letter.\")\n",
        "            continue\n",
        "\n",
        "        guessed_letters.append(guess)\n",
        "\n",
        "        if guess in word:\n",
        "            print(\"Good guess!\")\n",
        "            if all(letter in guessed_letters for letter in word):\n",
        "                print(f\"You win! The word was: {word}\")\n",
        "                break\n",
        "        else:\n",
        "            print(\"Wrong guess!\")\n",
        "            attempts -= 1\n",
        "\n",
        "    if attempts == 0:\n",
        "        print(f\"Game over! The word was: {word}\")\n",
        "\n",
        "hangman()"
      ]
    }
  ]
}