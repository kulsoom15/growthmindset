{
  "nbformat": 4,
  "nbformat_minor": 0,
  "metadata": {
    "colab": {
      "provenance": [],
      "authorship_tag": "ABX9TyOFdmcWI6Ah6HvDcACcURyY",
      "include_colab_link": true
    },
    "kernelspec": {
      "name": "python3",
      "display_name": "Python 3"
    },
    "language_info": {
      "name": "python"
    }
  },
  "cells": [
    {
      "cell_type": "markdown",
      "metadata": {
        "id": "view-in-github",
        "colab_type": "text"
      },
      "source": [
        "<a href=\"https://colab.research.google.com/github/kulsoom15/growthmindset.ks/blob/main/Number_Guessing_Game(computer).ipynb\" target=\"_parent\"><img src=\"https://colab.research.google.com/assets/colab-badge.svg\" alt=\"Open In Colab\"/></a>"
      ]
    },
    {
      "cell_type": "code",
      "source": [
        "import random\n",
        "\n",
        "def number_guessing_game():\n",
        "    print(\"Welcome to the Number Guessing Game!\")\n",
        "    secret_number = random.randint(1, 30)\n",
        "    attempts = 0\n",
        "\n",
        "    while True:\n",
        "        try:\n",
        "            guess = int(input(\"Enter your guess (between 1 and 30): \"))\n",
        "            attempts += 1\n",
        "\n",
        "            if guess < 1 or guess > 100:\n",
        "                print(\"Please enter a number between 1 and 30.\")\n",
        "                continue\n",
        "\n",
        "            if guess < secret_number:\n",
        "                print(\"Too low! Try again.\")\n",
        "            elif guess > secret_number:\n",
        "                print(\"Too high! Try again.\")\n",
        "            else:\n",
        "                print(f\"Congratulations! You guessed the number in {attempts} attempts.\")\n",
        "                break\n",
        "        except ValueError:\n",
        "            print(\"Invalid input! Please enter a number.\")\n",
        "\n",
        "number_guessing_game()\n"
      ],
      "metadata": {
        "colab": {
          "base_uri": "https://localhost:8080/"
        },
        "id": "uK1sz7MJj2C1",
        "outputId": "a375a7dd-13f0-4ca1-b6df-362b6d6a2934"
      },
      "execution_count": 5,
      "outputs": [
        {
          "output_type": "stream",
          "name": "stdout",
          "text": [
            "Welcome to the Number Guessing Game!\n",
            "Enter your guess (between 1 and 30): 2\n",
            "Too low! Try again.\n",
            "Enter your guess (between 1 and 30): 25\n",
            "Too high! Try again.\n",
            "Enter your guess (between 1 and 30): 15\n",
            "Too high! Try again.\n",
            "Enter your guess (between 1 and 30): 10\n",
            "Too high! Try again.\n",
            "Enter your guess (between 1 and 30): 8\n",
            "Too high! Try again.\n",
            "Enter your guess (between 1 and 30): 2\n",
            "Too low! Try again.\n",
            "Enter your guess (between 1 and 30): 3\n",
            "Too low! Try again.\n",
            "Enter your guess (between 1 and 30): 4\n",
            "Too low! Try again.\n",
            "Enter your guess (between 1 and 30): 5\n",
            "Congratulations! You guessed the number in 9 attempts.\n"
          ]
        }
      ]
    }
  ]
}