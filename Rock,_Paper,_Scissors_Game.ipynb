{
  "nbformat": 4,
  "nbformat_minor": 0,
  "metadata": {
    "colab": {
      "provenance": [],
      "authorship_tag": "ABX9TyOorvLl0w77Wv/vpFYZmvoa",
      "include_colab_link": true
    },
    "kernelspec": {
      "name": "python3",
      "display_name": "Python 3"
    },
    "language_info": {
      "name": "python"
    }
  },
  "cells": [
    {
      "cell_type": "markdown",
      "metadata": {
        "id": "view-in-github",
        "colab_type": "text"
      },
      "source": [
        "<a href=\"https://colab.research.google.com/github/kulsoom15/growthmindset.ks/blob/main/Rock%2C_Paper%2C_Scissors_Game.ipynb\" target=\"_parent\"><img src=\"https://colab.research.google.com/assets/colab-badge.svg\" alt=\"Open In Colab\"/></a>"
      ]
    },
    {
      "cell_type": "code",
      "execution_count": 1,
      "metadata": {
        "colab": {
          "base_uri": "https://localhost:8080/"
        },
        "id": "LGl4tnGpom3w",
        "outputId": "5f41c24c-f2af-4e91-97b4-b9fbdeef31ce"
      },
      "outputs": [
        {
          "output_type": "stream",
          "name": "stdout",
          "text": [
            "Welcome to Rock, Paper, Scissors!\n",
            "Enter rock, paper, or scissors (or 'quit' to exit): rock\n",
            "Computer chose: paper\n",
            "You lose!\n",
            "Enter rock, paper, or scissors (or 'quit' to exit): scissors\n",
            "Computer chose: scissors\n",
            "It's a tie!\n",
            "Enter rock, paper, or scissors (or 'quit' to exit): rock\n",
            "Computer chose: paper\n",
            "You lose!\n",
            "Enter rock, paper, or scissors (or 'quit' to exit): paper\n",
            "Computer chose: scissors\n",
            "You lose!\n",
            "Enter rock, paper, or scissors (or 'quit' to exit): scissors\n",
            "Computer chose: paper\n",
            "You win!\n",
            "Enter rock, paper, or scissors (or 'quit' to exit): quit\n",
            "Thanks for playing!\n"
          ]
        }
      ],
      "source": [
        "import random\n",
        "\n",
        "def rock_paper_scissors():\n",
        "    choices = [\"rock\", \"paper\", \"scissors\"]\n",
        "\n",
        "    print(\"Welcome to Rock, Paper, Scissors!\")\n",
        "\n",
        "    while True:\n",
        "        user_choice = input(\"Enter rock, paper, or scissors (or 'quit' to exit): \").lower()\n",
        "        if user_choice == \"quit\":\n",
        "            print(\"Thanks for playing!\")\n",
        "            break\n",
        "\n",
        "        if user_choice not in choices:\n",
        "            print(\"Invalid choice. Please enter rock, paper, or scissors.\")\n",
        "            continue\n",
        "\n",
        "        computer_choice = random.choice(choices)\n",
        "        print(f\"Computer chose: {computer_choice}\")\n",
        "\n",
        "        if user_choice == computer_choice:\n",
        "            print(\"It's a tie!\")\n",
        "        elif (user_choice == \"rock\" and computer_choice == \"scissors\") or \\\n",
        "             (user_choice == \"paper\" and computer_choice == \"rock\") or \\\n",
        "             (user_choice == \"scissors\" and computer_choice == \"paper\"):\n",
        "            print(\"You win!\")\n",
        "        else:\n",
        "            print(\"You lose!\")\n",
        "\n",
        "rock_paper_scissors()"
      ]
    }
  ]
}